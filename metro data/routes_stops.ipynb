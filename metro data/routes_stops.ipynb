{
 "cells": [
  {
   "cell_type": "code",
   "execution_count": 12,
   "id": "initial_id",
   "metadata": {
    "collapsed": true,
    "ExecuteTime": {
     "end_time": "2024-10-18T23:25:39.549326Z",
     "start_time": "2024-10-18T23:25:39.504889Z"
    }
   },
   "outputs": [
    {
     "data": {
      "text/plain": "  trip_id arrival_time departure_time  stop_id  stop_sequence\n0     BU0     06:01:00       06:01:00     5708              0\n1     BU0     06:03:00       06:03:00     5703              1\n2     BU0     06:05:00       06:05:00     5712              2\n3     BU0     06:06:00       06:06:00     5697              3\n4     BU0     06:08:00       06:08:00     5699              4",
      "text/html": "<div>\n<style scoped>\n    .dataframe tbody tr th:only-of-type {\n        vertical-align: middle;\n    }\n\n    .dataframe tbody tr th {\n        vertical-align: top;\n    }\n\n    .dataframe thead th {\n        text-align: right;\n    }\n</style>\n<table border=\"1\" class=\"dataframe\">\n  <thead>\n    <tr style=\"text-align: right;\">\n      <th></th>\n      <th>trip_id</th>\n      <th>arrival_time</th>\n      <th>departure_time</th>\n      <th>stop_id</th>\n      <th>stop_sequence</th>\n    </tr>\n  </thead>\n  <tbody>\n    <tr>\n      <th>0</th>\n      <td>BU0</td>\n      <td>06:01:00</td>\n      <td>06:01:00</td>\n      <td>5708</td>\n      <td>0</td>\n    </tr>\n    <tr>\n      <th>1</th>\n      <td>BU0</td>\n      <td>06:03:00</td>\n      <td>06:03:00</td>\n      <td>5703</td>\n      <td>1</td>\n    </tr>\n    <tr>\n      <th>2</th>\n      <td>BU0</td>\n      <td>06:05:00</td>\n      <td>06:05:00</td>\n      <td>5712</td>\n      <td>2</td>\n    </tr>\n    <tr>\n      <th>3</th>\n      <td>BU0</td>\n      <td>06:06:00</td>\n      <td>06:06:00</td>\n      <td>5697</td>\n      <td>3</td>\n    </tr>\n    <tr>\n      <th>4</th>\n      <td>BU0</td>\n      <td>06:08:00</td>\n      <td>06:08:00</td>\n      <td>5699</td>\n      <td>4</td>\n    </tr>\n  </tbody>\n</table>\n</div>"
     },
     "execution_count": 12,
     "metadata": {},
     "output_type": "execute_result"
    }
   ],
   "source": [
    "import pandas as pd\n",
    "\n",
    "# open metro data/stop_times.csv\n",
    "stop_times = pd.read_csv('./stop_times.csv', sep=';')\n",
    "\n",
    "stop_times.head(5)\n"
   ]
  },
  {
   "cell_type": "code",
   "outputs": [
    {
     "name": "stdout",
     "output_type": "stream",
     "text": [
      "      trip_id arrival_time departure_time  stop_id  stop_sequence\n",
      "0         BU0     06:01:00       06:01:00     5708              0\n",
      "1         BU0     06:03:00       06:03:00     5703              1\n",
      "2         BU0     06:05:00       06:05:00     5712              2\n",
      "3         BU0     06:06:00       06:06:00     5697              3\n",
      "4         BU0     06:08:00       06:08:00     5699              4\n",
      "...       ...          ...            ...      ...            ...\n",
      "39109     AU0     06:53:00       06:53:00     5701             28\n",
      "39110     AU0     06:54:00       06:54:00     5715             29\n",
      "39111     AU0     06:56:00       06:56:00     5700             30\n",
      "39112     AU0     06:58:00       06:58:00     5716             31\n",
      "39113     AU0     07:00:00       07:00:00     5723             32\n",
      "\n",
      "[168 rows x 5 columns]\n"
     ]
    }
   ],
   "source": [
    "# filter in trip_id that start with <letters>U0\n",
    "stop_times = stop_times[stop_times['trip_id'].str.contains('U0')]\n",
    "print(stop_times)"
   ],
   "metadata": {
    "collapsed": false,
    "ExecuteTime": {
     "end_time": "2024-10-18T23:25:42.971122Z",
     "start_time": "2024-10-18T23:25:42.942231Z"
    }
   },
   "id": "fe39499f935afb1b",
   "execution_count": 13
  },
  {
   "cell_type": "code",
   "outputs": [
    {
     "data": {
      "text/plain": "      trip_id  stop_id  stop_sequence\n0           B     5708              0\n1           B     5703              1\n2           B     5712              2\n3           B     5697              3\n4           B     5699              4\n...       ...      ...            ...\n39109       A     5701             28\n39110       A     5715             29\n39111       A     5700             30\n39112       A     5716             31\n39113       A     5723             32\n\n[168 rows x 3 columns]",
      "text/html": "<div>\n<style scoped>\n    .dataframe tbody tr th:only-of-type {\n        vertical-align: middle;\n    }\n\n    .dataframe tbody tr th {\n        vertical-align: top;\n    }\n\n    .dataframe thead th {\n        text-align: right;\n    }\n</style>\n<table border=\"1\" class=\"dataframe\">\n  <thead>\n    <tr style=\"text-align: right;\">\n      <th></th>\n      <th>trip_id</th>\n      <th>stop_id</th>\n      <th>stop_sequence</th>\n    </tr>\n  </thead>\n  <tbody>\n    <tr>\n      <th>0</th>\n      <td>B</td>\n      <td>5708</td>\n      <td>0</td>\n    </tr>\n    <tr>\n      <th>1</th>\n      <td>B</td>\n      <td>5703</td>\n      <td>1</td>\n    </tr>\n    <tr>\n      <th>2</th>\n      <td>B</td>\n      <td>5712</td>\n      <td>2</td>\n    </tr>\n    <tr>\n      <th>3</th>\n      <td>B</td>\n      <td>5697</td>\n      <td>3</td>\n    </tr>\n    <tr>\n      <th>4</th>\n      <td>B</td>\n      <td>5699</td>\n      <td>4</td>\n    </tr>\n    <tr>\n      <th>...</th>\n      <td>...</td>\n      <td>...</td>\n      <td>...</td>\n    </tr>\n    <tr>\n      <th>39109</th>\n      <td>A</td>\n      <td>5701</td>\n      <td>28</td>\n    </tr>\n    <tr>\n      <th>39110</th>\n      <td>A</td>\n      <td>5715</td>\n      <td>29</td>\n    </tr>\n    <tr>\n      <th>39111</th>\n      <td>A</td>\n      <td>5700</td>\n      <td>30</td>\n    </tr>\n    <tr>\n      <th>39112</th>\n      <td>A</td>\n      <td>5716</td>\n      <td>31</td>\n    </tr>\n    <tr>\n      <th>39113</th>\n      <td>A</td>\n      <td>5723</td>\n      <td>32</td>\n    </tr>\n  </tbody>\n</table>\n<p>168 rows × 3 columns</p>\n</div>"
     },
     "execution_count": 21,
     "metadata": {},
     "output_type": "execute_result"
    }
   ],
   "source": [
    "#remove arrival_time and departure_time\n",
    "# stop_times = stop_times.drop(columns=['arrival_time', 'departure_time'])\n",
    "\n",
    "#drop the 0at the end of the trip_id\n",
    "# stop_times['trip_id'] = stop_times['trip_id'].str[:-2]\n",
    "\n",
    "# display the whole df\n",
    "stop_times"
   ],
   "metadata": {
    "collapsed": false,
    "ExecuteTime": {
     "end_time": "2024-10-18T23:32:33.608131Z",
     "start_time": "2024-10-18T23:32:33.597906Z"
    }
   },
   "id": "498511487149c7b3",
   "execution_count": 21
  },
  {
   "cell_type": "code",
   "outputs": [
    {
     "data": {
      "text/plain": "                                                   stop_id  \\\ntrip_id                                                      \nA        [5708, 5703, 5712, 5697, 5699, 5726, 5713, 570...   \nB        [5708, 5703, 5712, 5697, 5699, 5726, 5713, 570...   \nBexp     [5708, 5703, 5712, 5697, 5699, 5726, 5713, 570...   \nC        [5703, 5712, 5697, 5699, 5726, 5713, 5704, 570...   \nD        [5813, 5811, 5812, 5792, 5769, 5774, 5767, 577...   \nE        [5708, 5703, 5712, 5697, 5699, 5726, 5713, 570...   \nF        [5710, 5728, 5705, 5698, 5702, 5722, 5714, 571...   \n\n                                             stop_sequence  \ntrip_id                                                     \nA        [10, 11, 12, 13, 14, 15, 16, 17, 18, 19, 20, 2...  \nB        [0, 1, 2, 3, 4, 5, 6, 7, 8, 9, 10, 11, 12, 13,...  \nBexp     [0, 1, 2, 3, 4, 5, 6, 7, 8, 9, 10, 11, 12, 13,...  \nC        [0, 1, 2, 3, 4, 5, 6, 7, 8, 9, 10, 11, 12, 13,...  \nD        [1, 2, 3, 4, 5, 6, 7, 8, 9, 10, 11, 12, 13, 14...  \nE        [10, 11, 12, 13, 14, 15, 16, 17, 18, 19, 20, 2...  \nF        [0, 1, 2, 3, 4, 5, 6, 7, 8, 9, 10, 11, 12, 13,...  ",
      "text/html": "<div>\n<style scoped>\n    .dataframe tbody tr th:only-of-type {\n        vertical-align: middle;\n    }\n\n    .dataframe tbody tr th {\n        vertical-align: top;\n    }\n\n    .dataframe thead th {\n        text-align: right;\n    }\n</style>\n<table border=\"1\" class=\"dataframe\">\n  <thead>\n    <tr style=\"text-align: right;\">\n      <th></th>\n      <th>stop_id</th>\n      <th>stop_sequence</th>\n    </tr>\n    <tr>\n      <th>trip_id</th>\n      <th></th>\n      <th></th>\n    </tr>\n  </thead>\n  <tbody>\n    <tr>\n      <th>A</th>\n      <td>[5708, 5703, 5712, 5697, 5699, 5726, 5713, 570...</td>\n      <td>[10, 11, 12, 13, 14, 15, 16, 17, 18, 19, 20, 2...</td>\n    </tr>\n    <tr>\n      <th>B</th>\n      <td>[5708, 5703, 5712, 5697, 5699, 5726, 5713, 570...</td>\n      <td>[0, 1, 2, 3, 4, 5, 6, 7, 8, 9, 10, 11, 12, 13,...</td>\n    </tr>\n    <tr>\n      <th>Bexp</th>\n      <td>[5708, 5703, 5712, 5697, 5699, 5726, 5713, 570...</td>\n      <td>[0, 1, 2, 3, 4, 5, 6, 7, 8, 9, 10, 11, 12, 13,...</td>\n    </tr>\n    <tr>\n      <th>C</th>\n      <td>[5703, 5712, 5697, 5699, 5726, 5713, 5704, 570...</td>\n      <td>[0, 1, 2, 3, 4, 5, 6, 7, 8, 9, 10, 11, 12, 13,...</td>\n    </tr>\n    <tr>\n      <th>D</th>\n      <td>[5813, 5811, 5812, 5792, 5769, 5774, 5767, 577...</td>\n      <td>[1, 2, 3, 4, 5, 6, 7, 8, 9, 10, 11, 12, 13, 14...</td>\n    </tr>\n    <tr>\n      <th>E</th>\n      <td>[5708, 5703, 5712, 5697, 5699, 5726, 5713, 570...</td>\n      <td>[10, 11, 12, 13, 14, 15, 16, 17, 18, 19, 20, 2...</td>\n    </tr>\n    <tr>\n      <th>F</th>\n      <td>[5710, 5728, 5705, 5698, 5702, 5722, 5714, 571...</td>\n      <td>[0, 1, 2, 3, 4, 5, 6, 7, 8, 9, 10, 11, 12, 13,...</td>\n    </tr>\n  </tbody>\n</table>\n</div>"
     },
     "execution_count": 22,
     "metadata": {},
     "output_type": "execute_result"
    }
   ],
   "source": [
    "# group by trip_id\n",
    "stop_times2 = stop_times.groupby('trip_id').agg(lambda x: x.tolist())\n",
    "stop_times2"
   ],
   "metadata": {
    "collapsed": false,
    "ExecuteTime": {
     "end_time": "2024-10-18T23:32:45.478697Z",
     "start_time": "2024-10-18T23:32:45.463088Z"
    }
   },
   "id": "b8d332dc2c7daae8",
   "execution_count": 22
  },
  {
   "cell_type": "code",
   "outputs": [
    {
     "name": "stdout",
     "output_type": "stream",
     "text": [
      "{'A': [5708, 5703, 5712, 5697, 5699, 5726, 5713, 5704, 5706, 5711, 5721, 5729, 5725, 5724, 5727, 5709, 5720, 5719, 5701, 5715, 5700, 5716, 5723], 'B': [5708, 5703, 5712, 5697, 5699, 5726, 5713, 5704, 5706, 5711, 5721, 5729, 5725, 5724, 5737, 5734, 5736, 5733, 5750, 5744, 5739, 5753, 5743, 5741, 5742, 5740, 5735, 5749, 5731, 5732, 5747, 5752, 5730, 5745, 5748, 5746], 'Bexp': [5708, 5703, 5712, 5697, 5699, 5726, 5713, 5704, 5706, 5711, 5721, 5729, 5725, 5724, 5744, 5742, 5740, 5749, 5752, 5745, 5746], 'C': [5703, 5712, 5697, 5699, 5726, 5713, 5704, 5706, 5711, 5721, 5729, 5725, 5724, 5737, 5755, 5764, 5754, 5757, 5763, 5760, 5765, 5762, 5756, 5761], 'D': [5813, 5811, 5812, 5792, 5769, 5774, 5767, 5771, 5773, 5778, 5766, 5726, 5770, 5775, 5768, 5777, 5776, 5772, 5791], 'E': [5708, 5703, 5712, 5697, 5699, 5726, 5713, 5704, 5706, 5711, 5721, 5729, 5725, 5724, 5737, 5734, 5736, 5733, 5750, 5783, 5782], 'F': [5710, 5728, 5705, 5698, 5702, 5722, 5714, 5718, 5717, 5707, 5708, 5703, 5712, 5697, 5699, 5726, 5713, 5704, 5706, 5711, 5721, 5729, 5725, 5724]}\n"
     ]
    }
   ],
   "source": [
    "lines = {trip_id: stop_times2.loc[trip_id]['stop_id'] for trip_id in stop_times2.index}\n",
    "metro_lines = {\"lines\": []}\n",
    "print(lines)\n",
    "# open stops.txt as csv\n",
    "stops = pd.read_csv('./stops.txt', sep=',')\n",
    "routes = pd.read_csv('./routes.txt', sep=',')\n",
    "\n",
    "routes\n",
    "\n",
    "for line in lines:\n",
    "    metro_lines[\"lines\"].append({\n",
    "        \"line_name\": line,\n",
    "        \"color\": routes[routes['route_id'] == line]['route_color'].values[0],\n",
    "        \"stops\": [{\"name\": stops[stops['stop_id'] == stop_id]['stop_name'].values[0], \"lat\": stops[stops['stop_id'] == stop_id]['stop_lat'].values[0], \"lon\": stops[stops['stop_id'] == stop_id]['stop_lon'].values[0], \"zone\": stops[stops['stop_id'] == stop_id]['zone_id'].values[0]\n",
    "                   } for stop_id in lines[line]]\n",
    "        \n",
    "\n",
    "    })\n",
    "\n",
    "metro_lines\n",
    "\n",
    "\n",
    "# store json\n",
    "# fix encoding so accents are displayed correctly\n",
    "import json\n",
    "with open('metro_lines.json', 'w', encoding='utf-8') as f:\n",
    "    json.dump(metro_lines, f, ensure_ascii=False, indent=2)\n",
    "    "
   ],
   "metadata": {
    "collapsed": false,
    "ExecuteTime": {
     "end_time": "2024-10-18T23:44:51.939137Z",
     "start_time": "2024-10-18T23:44:51.533657Z"
    }
   },
   "id": "e91ed78e9538344d",
   "execution_count": 34
  },
  {
   "cell_type": "code",
   "outputs": [],
   "source": [],
   "metadata": {
    "collapsed": false
   },
   "id": "4d4efb9523335bf1"
  }
 ],
 "metadata": {
  "kernelspec": {
   "display_name": "Python 3",
   "language": "python",
   "name": "python3"
  },
  "language_info": {
   "codemirror_mode": {
    "name": "ipython",
    "version": 2
   },
   "file_extension": ".py",
   "mimetype": "text/x-python",
   "name": "python",
   "nbconvert_exporter": "python",
   "pygments_lexer": "ipython2",
   "version": "2.7.6"
  }
 },
 "nbformat": 4,
 "nbformat_minor": 5
}
