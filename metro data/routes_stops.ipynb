{
 "cells": [
  {
   "cell_type": "code",
   "execution_count": 7,
   "id": "initial_id",
   "metadata": {
    "collapsed": true,
    "ExecuteTime": {
     "end_time": "2024-11-16T03:55:05.380741Z",
     "start_time": "2024-11-16T03:55:05.332828Z"
    }
   },
   "outputs": [
    {
     "data": {
      "text/plain": "  trip_id arrival_time departure_time  stop_id  stop_sequence\n0     BU0     06:01:00       06:01:00     5708              0\n1     BU0     06:03:00       06:03:00     5703              1\n2     BU0     06:05:00       06:05:00     5712              2\n3     BU0     06:06:00       06:06:00     5697              3\n4     BU0     06:08:00       06:08:00     5699              4",
      "text/html": "<div>\n<style scoped>\n    .dataframe tbody tr th:only-of-type {\n        vertical-align: middle;\n    }\n\n    .dataframe tbody tr th {\n        vertical-align: top;\n    }\n\n    .dataframe thead th {\n        text-align: right;\n    }\n</style>\n<table border=\"1\" class=\"dataframe\">\n  <thead>\n    <tr style=\"text-align: right;\">\n      <th></th>\n      <th>trip_id</th>\n      <th>arrival_time</th>\n      <th>departure_time</th>\n      <th>stop_id</th>\n      <th>stop_sequence</th>\n    </tr>\n  </thead>\n  <tbody>\n    <tr>\n      <th>0</th>\n      <td>BU0</td>\n      <td>06:01:00</td>\n      <td>06:01:00</td>\n      <td>5708</td>\n      <td>0</td>\n    </tr>\n    <tr>\n      <th>1</th>\n      <td>BU0</td>\n      <td>06:03:00</td>\n      <td>06:03:00</td>\n      <td>5703</td>\n      <td>1</td>\n    </tr>\n    <tr>\n      <th>2</th>\n      <td>BU0</td>\n      <td>06:05:00</td>\n      <td>06:05:00</td>\n      <td>5712</td>\n      <td>2</td>\n    </tr>\n    <tr>\n      <th>3</th>\n      <td>BU0</td>\n      <td>06:06:00</td>\n      <td>06:06:00</td>\n      <td>5697</td>\n      <td>3</td>\n    </tr>\n    <tr>\n      <th>4</th>\n      <td>BU0</td>\n      <td>06:08:00</td>\n      <td>06:08:00</td>\n      <td>5699</td>\n      <td>4</td>\n    </tr>\n  </tbody>\n</table>\n</div>"
     },
     "execution_count": 7,
     "metadata": {},
     "output_type": "execute_result"
    }
   ],
   "source": [
    "import pandas as pd\n",
    "\n",
    "# open metro data/stop_times.csv\n",
    "stop_times = pd.read_csv('./stop_times.csv', sep=';')\n",
    "\n",
    "stop_times.head(5)\n"
   ]
  },
  {
   "cell_type": "code",
   "outputs": [
    {
     "name": "stdout",
     "output_type": "stream",
     "text": [
      "      trip_id arrival_time departure_time  stop_id  stop_sequence\n",
      "0         BU0     06:01:00       06:01:00     5708              0\n",
      "1         BU0     06:03:00       06:03:00     5703              1\n",
      "2         BU0     06:05:00       06:05:00     5712              2\n",
      "3         BU0     06:06:00       06:06:00     5697              3\n",
      "4         BU0     06:08:00       06:08:00     5699              4\n",
      "...       ...          ...            ...      ...            ...\n",
      "39109     AU0     06:53:00       06:53:00     5701             28\n",
      "39110     AU0     06:54:00       06:54:00     5715             29\n",
      "39111     AU0     06:56:00       06:56:00     5700             30\n",
      "39112     AU0     06:58:00       06:58:00     5716             31\n",
      "39113     AU0     07:00:00       07:00:00     5723             32\n",
      "\n",
      "[168 rows x 5 columns]\n"
     ]
    }
   ],
   "source": [
    "# filter in trip_id that start with <letters>U0\n",
    "stop_times = stop_times[stop_times['trip_id'].str.contains('U0')]\n",
    "print(stop_times)"
   ],
   "metadata": {
    "collapsed": false,
    "ExecuteTime": {
     "end_time": "2024-11-16T03:55:06.591085Z",
     "start_time": "2024-11-16T03:55:06.560495Z"
    }
   },
   "id": "fe39499f935afb1b",
   "execution_count": 8
  },
  {
   "cell_type": "code",
   "outputs": [
    {
     "data": {
      "text/plain": "      trip_id arrival_time departure_time  stop_id  stop_sequence\n0         BU0     06:01:00       06:01:00     5708              0\n1         BU0     06:03:00       06:03:00     5703              1\n2         BU0     06:05:00       06:05:00     5712              2\n3         BU0     06:06:00       06:06:00     5697              3\n4         BU0     06:08:00       06:08:00     5699              4\n...       ...          ...            ...      ...            ...\n39109     AU0     06:53:00       06:53:00     5701             28\n39110     AU0     06:54:00       06:54:00     5715             29\n39111     AU0     06:56:00       06:56:00     5700             30\n39112     AU0     06:58:00       06:58:00     5716             31\n39113     AU0     07:00:00       07:00:00     5723             32\n\n[168 rows x 5 columns]",
      "text/html": "<div>\n<style scoped>\n    .dataframe tbody tr th:only-of-type {\n        vertical-align: middle;\n    }\n\n    .dataframe tbody tr th {\n        vertical-align: top;\n    }\n\n    .dataframe thead th {\n        text-align: right;\n    }\n</style>\n<table border=\"1\" class=\"dataframe\">\n  <thead>\n    <tr style=\"text-align: right;\">\n      <th></th>\n      <th>trip_id</th>\n      <th>arrival_time</th>\n      <th>departure_time</th>\n      <th>stop_id</th>\n      <th>stop_sequence</th>\n    </tr>\n  </thead>\n  <tbody>\n    <tr>\n      <th>0</th>\n      <td>BU0</td>\n      <td>06:01:00</td>\n      <td>06:01:00</td>\n      <td>5708</td>\n      <td>0</td>\n    </tr>\n    <tr>\n      <th>1</th>\n      <td>BU0</td>\n      <td>06:03:00</td>\n      <td>06:03:00</td>\n      <td>5703</td>\n      <td>1</td>\n    </tr>\n    <tr>\n      <th>2</th>\n      <td>BU0</td>\n      <td>06:05:00</td>\n      <td>06:05:00</td>\n      <td>5712</td>\n      <td>2</td>\n    </tr>\n    <tr>\n      <th>3</th>\n      <td>BU0</td>\n      <td>06:06:00</td>\n      <td>06:06:00</td>\n      <td>5697</td>\n      <td>3</td>\n    </tr>\n    <tr>\n      <th>4</th>\n      <td>BU0</td>\n      <td>06:08:00</td>\n      <td>06:08:00</td>\n      <td>5699</td>\n      <td>4</td>\n    </tr>\n    <tr>\n      <th>...</th>\n      <td>...</td>\n      <td>...</td>\n      <td>...</td>\n      <td>...</td>\n      <td>...</td>\n    </tr>\n    <tr>\n      <th>39109</th>\n      <td>AU0</td>\n      <td>06:53:00</td>\n      <td>06:53:00</td>\n      <td>5701</td>\n      <td>28</td>\n    </tr>\n    <tr>\n      <th>39110</th>\n      <td>AU0</td>\n      <td>06:54:00</td>\n      <td>06:54:00</td>\n      <td>5715</td>\n      <td>29</td>\n    </tr>\n    <tr>\n      <th>39111</th>\n      <td>AU0</td>\n      <td>06:56:00</td>\n      <td>06:56:00</td>\n      <td>5700</td>\n      <td>30</td>\n    </tr>\n    <tr>\n      <th>39112</th>\n      <td>AU0</td>\n      <td>06:58:00</td>\n      <td>06:58:00</td>\n      <td>5716</td>\n      <td>31</td>\n    </tr>\n    <tr>\n      <th>39113</th>\n      <td>AU0</td>\n      <td>07:00:00</td>\n      <td>07:00:00</td>\n      <td>5723</td>\n      <td>32</td>\n    </tr>\n  </tbody>\n</table>\n<p>168 rows × 5 columns</p>\n</div>"
     },
     "execution_count": 9,
     "metadata": {},
     "output_type": "execute_result"
    }
   ],
   "source": [
    "#remove arrival_time and departure_time\n",
    "# stop_times = stop_times.drop(columns=['arrival_time', 'departure_time'])\n",
    "\n",
    "#drop the 0at the end of the trip_id\n",
    "# stop_times['trip_id'] = stop_times['trip_id'].str[:-2]\n",
    "\n",
    "# display the whole df\n",
    "stop_times"
   ],
   "metadata": {
    "collapsed": false,
    "ExecuteTime": {
     "end_time": "2024-11-16T03:55:07.943038Z",
     "start_time": "2024-11-16T03:55:07.932418Z"
    }
   },
   "id": "498511487149c7b3",
   "execution_count": 9
  },
  {
   "cell_type": "code",
   "outputs": [
    {
     "data": {
      "text/plain": "                                              arrival_time  \\\ntrip_id                                                      \nAU0      [06:19:00, 06:21:00, 06:23:00, 06:25:00, 06:26...   \nBU0      [06:01:00, 06:03:00, 06:05:00, 06:06:00, 06:08...   \nBexpU0   [06:41:00, 06:43:00, 06:45:00, 06:47:00, 06:48...   \nCU0      [05:58:00, 06:00:00, 06:01:00, 06:03:00, 06:05...   \nDU0      [06:00:00, 06:02:00, 06:04:00, 06:07:00, 06:08...   \nEU0      [07:05:00, 07:07:00, 07:09:00, 07:11:00, 07:12...   \nFU0      [05:59:00, 06:00:00, 06:02:00, 06:04:00, 06:06...   \n\n                                            departure_time  \\\ntrip_id                                                      \nAU0      [06:19:00, 06:21:00, 06:23:00, 06:25:00, 06:26...   \nBU0      [06:01:00, 06:03:00, 06:05:00, 06:06:00, 06:08...   \nBexpU0   [06:41:00, 06:43:00, 06:45:00, 06:47:00, 06:48...   \nCU0      [05:58:00, 06:00:00, 06:01:00, 06:03:00, 06:05...   \nDU0      [06:00:00, 06:02:00, 06:04:00, 06:07:00, 06:08...   \nEU0      [07:05:00, 07:07:00, 07:09:00, 07:11:00, 07:12...   \nFU0      [05:59:00, 06:00:00, 06:02:00, 06:04:00, 06:06...   \n\n                                                   stop_id  \\\ntrip_id                                                      \nAU0      [5708, 5703, 5712, 5697, 5699, 5726, 5713, 570...   \nBU0      [5708, 5703, 5712, 5697, 5699, 5726, 5713, 570...   \nBexpU0   [5708, 5703, 5712, 5697, 5699, 5726, 5713, 570...   \nCU0      [5703, 5712, 5697, 5699, 5726, 5713, 5704, 570...   \nDU0      [5813, 5811, 5812, 5792, 5769, 5774, 5767, 577...   \nEU0      [5708, 5703, 5712, 5697, 5699, 5726, 5713, 570...   \nFU0      [5710, 5728, 5705, 5698, 5702, 5722, 5714, 571...   \n\n                                             stop_sequence  \ntrip_id                                                     \nAU0      [10, 11, 12, 13, 14, 15, 16, 17, 18, 19, 20, 2...  \nBU0      [0, 1, 2, 3, 4, 5, 6, 7, 8, 9, 10, 11, 12, 13,...  \nBexpU0   [0, 1, 2, 3, 4, 5, 6, 7, 8, 9, 10, 11, 12, 13,...  \nCU0      [0, 1, 2, 3, 4, 5, 6, 7, 8, 9, 10, 11, 12, 13,...  \nDU0      [1, 2, 3, 4, 5, 6, 7, 8, 9, 10, 11, 12, 13, 14...  \nEU0      [10, 11, 12, 13, 14, 15, 16, 17, 18, 19, 20, 2...  \nFU0      [0, 1, 2, 3, 4, 5, 6, 7, 8, 9, 10, 11, 12, 13,...  ",
      "text/html": "<div>\n<style scoped>\n    .dataframe tbody tr th:only-of-type {\n        vertical-align: middle;\n    }\n\n    .dataframe tbody tr th {\n        vertical-align: top;\n    }\n\n    .dataframe thead th {\n        text-align: right;\n    }\n</style>\n<table border=\"1\" class=\"dataframe\">\n  <thead>\n    <tr style=\"text-align: right;\">\n      <th></th>\n      <th>arrival_time</th>\n      <th>departure_time</th>\n      <th>stop_id</th>\n      <th>stop_sequence</th>\n    </tr>\n    <tr>\n      <th>trip_id</th>\n      <th></th>\n      <th></th>\n      <th></th>\n      <th></th>\n    </tr>\n  </thead>\n  <tbody>\n    <tr>\n      <th>AU0</th>\n      <td>[06:19:00, 06:21:00, 06:23:00, 06:25:00, 06:26...</td>\n      <td>[06:19:00, 06:21:00, 06:23:00, 06:25:00, 06:26...</td>\n      <td>[5708, 5703, 5712, 5697, 5699, 5726, 5713, 570...</td>\n      <td>[10, 11, 12, 13, 14, 15, 16, 17, 18, 19, 20, 2...</td>\n    </tr>\n    <tr>\n      <th>BU0</th>\n      <td>[06:01:00, 06:03:00, 06:05:00, 06:06:00, 06:08...</td>\n      <td>[06:01:00, 06:03:00, 06:05:00, 06:06:00, 06:08...</td>\n      <td>[5708, 5703, 5712, 5697, 5699, 5726, 5713, 570...</td>\n      <td>[0, 1, 2, 3, 4, 5, 6, 7, 8, 9, 10, 11, 12, 13,...</td>\n    </tr>\n    <tr>\n      <th>BexpU0</th>\n      <td>[06:41:00, 06:43:00, 06:45:00, 06:47:00, 06:48...</td>\n      <td>[06:41:00, 06:43:00, 06:45:00, 06:47:00, 06:48...</td>\n      <td>[5708, 5703, 5712, 5697, 5699, 5726, 5713, 570...</td>\n      <td>[0, 1, 2, 3, 4, 5, 6, 7, 8, 9, 10, 11, 12, 13,...</td>\n    </tr>\n    <tr>\n      <th>CU0</th>\n      <td>[05:58:00, 06:00:00, 06:01:00, 06:03:00, 06:05...</td>\n      <td>[05:58:00, 06:00:00, 06:01:00, 06:03:00, 06:05...</td>\n      <td>[5703, 5712, 5697, 5699, 5726, 5713, 5704, 570...</td>\n      <td>[0, 1, 2, 3, 4, 5, 6, 7, 8, 9, 10, 11, 12, 13,...</td>\n    </tr>\n    <tr>\n      <th>DU0</th>\n      <td>[06:00:00, 06:02:00, 06:04:00, 06:07:00, 06:08...</td>\n      <td>[06:00:00, 06:02:00, 06:04:00, 06:07:00, 06:08...</td>\n      <td>[5813, 5811, 5812, 5792, 5769, 5774, 5767, 577...</td>\n      <td>[1, 2, 3, 4, 5, 6, 7, 8, 9, 10, 11, 12, 13, 14...</td>\n    </tr>\n    <tr>\n      <th>EU0</th>\n      <td>[07:05:00, 07:07:00, 07:09:00, 07:11:00, 07:12...</td>\n      <td>[07:05:00, 07:07:00, 07:09:00, 07:11:00, 07:12...</td>\n      <td>[5708, 5703, 5712, 5697, 5699, 5726, 5713, 570...</td>\n      <td>[10, 11, 12, 13, 14, 15, 16, 17, 18, 19, 20, 2...</td>\n    </tr>\n    <tr>\n      <th>FU0</th>\n      <td>[05:59:00, 06:00:00, 06:02:00, 06:04:00, 06:06...</td>\n      <td>[05:59:00, 06:00:00, 06:02:00, 06:04:00, 06:06...</td>\n      <td>[5710, 5728, 5705, 5698, 5702, 5722, 5714, 571...</td>\n      <td>[0, 1, 2, 3, 4, 5, 6, 7, 8, 9, 10, 11, 12, 13,...</td>\n    </tr>\n  </tbody>\n</table>\n</div>"
     },
     "execution_count": 10,
     "metadata": {},
     "output_type": "execute_result"
    }
   ],
   "source": [
    "# group by trip_id\n",
    "stop_times2 = stop_times.groupby('trip_id').agg(lambda x: x.tolist())\n",
    "stop_times2"
   ],
   "metadata": {
    "collapsed": false,
    "ExecuteTime": {
     "end_time": "2024-11-16T03:55:10.987219Z",
     "start_time": "2024-11-16T03:55:10.959879Z"
    }
   },
   "id": "b8d332dc2c7daae8",
   "execution_count": 10
  },
  {
   "cell_type": "code",
   "outputs": [
    {
     "name": "stdout",
     "output_type": "stream",
     "text": [
      "{'AU0': [5708, 5703, 5712, 5697, 5699, 5726, 5713, 5704, 5706, 5711, 5721, 5729, 5725, 5724, 5727, 5709, 5720, 5719, 5701, 5715, 5700, 5716, 5723], 'BU0': [5708, 5703, 5712, 5697, 5699, 5726, 5713, 5704, 5706, 5711, 5721, 5729, 5725, 5724, 5737, 5734, 5736, 5733, 5750, 5744, 5739, 5753, 5743, 5741, 5742, 5740, 5735, 5749, 5731, 5732, 5747, 5752, 5730, 5745, 5748, 5746], 'BexpU0': [5708, 5703, 5712, 5697, 5699, 5726, 5713, 5704, 5706, 5711, 5721, 5729, 5725, 5724, 5744, 5742, 5740, 5749, 5752, 5745, 5746], 'CU0': [5703, 5712, 5697, 5699, 5726, 5713, 5704, 5706, 5711, 5721, 5729, 5725, 5724, 5737, 5755, 5764, 5754, 5757, 5763, 5760, 5765, 5762, 5756, 5761], 'DU0': [5813, 5811, 5812, 5792, 5769, 5774, 5767, 5771, 5773, 5778, 5766, 5726, 5770, 5775, 5768, 5777, 5776, 5772, 5791], 'EU0': [5708, 5703, 5712, 5697, 5699, 5726, 5713, 5704, 5706, 5711, 5721, 5729, 5725, 5724, 5737, 5734, 5736, 5733, 5750, 5783, 5782], 'FU0': [5710, 5728, 5705, 5698, 5702, 5722, 5714, 5718, 5717, 5707, 5708, 5703, 5712, 5697, 5699, 5726, 5713, 5704, 5706, 5711, 5721, 5729, 5725, 5724]}\n"
     ]
    },
    {
     "ename": "IndexError",
     "evalue": "index 0 is out of bounds for axis 0 with size 0",
     "output_type": "error",
     "traceback": [
      "\u001B[1;31m---------------------------------------------------------------------------\u001B[0m",
      "\u001B[1;31mIndexError\u001B[0m                                Traceback (most recent call last)",
      "Cell \u001B[1;32mIn[11], line 13\u001B[0m\n\u001B[0;32m      8\u001B[0m routes\n\u001B[0;32m     10\u001B[0m \u001B[38;5;28;01mfor\u001B[39;00m line \u001B[38;5;129;01min\u001B[39;00m lines:\n\u001B[0;32m     11\u001B[0m     metro_lines[\u001B[38;5;124m\"\u001B[39m\u001B[38;5;124mlines\u001B[39m\u001B[38;5;124m\"\u001B[39m]\u001B[38;5;241m.\u001B[39mappend({\n\u001B[0;32m     12\u001B[0m         \u001B[38;5;124m\"\u001B[39m\u001B[38;5;124mline_name\u001B[39m\u001B[38;5;124m\"\u001B[39m: line,\n\u001B[1;32m---> 13\u001B[0m         \u001B[38;5;124m\"\u001B[39m\u001B[38;5;124mcolor\u001B[39m\u001B[38;5;124m\"\u001B[39m: \u001B[43mroutes\u001B[49m\u001B[43m[\u001B[49m\u001B[43mroutes\u001B[49m\u001B[43m[\u001B[49m\u001B[38;5;124;43m'\u001B[39;49m\u001B[38;5;124;43mroute_id\u001B[39;49m\u001B[38;5;124;43m'\u001B[39;49m\u001B[43m]\u001B[49m\u001B[43m \u001B[49m\u001B[38;5;241;43m==\u001B[39;49m\u001B[43m \u001B[49m\u001B[43mline\u001B[49m\u001B[43m]\u001B[49m\u001B[43m[\u001B[49m\u001B[38;5;124;43m'\u001B[39;49m\u001B[38;5;124;43mroute_color\u001B[39;49m\u001B[38;5;124;43m'\u001B[39;49m\u001B[43m]\u001B[49m\u001B[38;5;241;43m.\u001B[39;49m\u001B[43mvalues\u001B[49m\u001B[43m[\u001B[49m\u001B[38;5;241;43m0\u001B[39;49m\u001B[43m]\u001B[49m,\n\u001B[0;32m     14\u001B[0m         \u001B[38;5;124m\"\u001B[39m\u001B[38;5;124mstops\u001B[39m\u001B[38;5;124m\"\u001B[39m: [{\u001B[38;5;124m\"\u001B[39m\u001B[38;5;124mname\u001B[39m\u001B[38;5;124m\"\u001B[39m: stops[stops[\u001B[38;5;124m'\u001B[39m\u001B[38;5;124mstop_id\u001B[39m\u001B[38;5;124m'\u001B[39m] \u001B[38;5;241m==\u001B[39m stop_id][\u001B[38;5;124m'\u001B[39m\u001B[38;5;124mstop_name\u001B[39m\u001B[38;5;124m'\u001B[39m]\u001B[38;5;241m.\u001B[39mvalues[\u001B[38;5;241m0\u001B[39m], \u001B[38;5;124m\"\u001B[39m\u001B[38;5;124mlat\u001B[39m\u001B[38;5;124m\"\u001B[39m: stops[stops[\u001B[38;5;124m'\u001B[39m\u001B[38;5;124mstop_id\u001B[39m\u001B[38;5;124m'\u001B[39m] \u001B[38;5;241m==\u001B[39m stop_id][\u001B[38;5;124m'\u001B[39m\u001B[38;5;124mstop_lat\u001B[39m\u001B[38;5;124m'\u001B[39m]\u001B[38;5;241m.\u001B[39mvalues[\u001B[38;5;241m0\u001B[39m], \u001B[38;5;124m\"\u001B[39m\u001B[38;5;124mlon\u001B[39m\u001B[38;5;124m\"\u001B[39m: stops[stops[\u001B[38;5;124m'\u001B[39m\u001B[38;5;124mstop_id\u001B[39m\u001B[38;5;124m'\u001B[39m] \u001B[38;5;241m==\u001B[39m stop_id][\u001B[38;5;124m'\u001B[39m\u001B[38;5;124mstop_lon\u001B[39m\u001B[38;5;124m'\u001B[39m]\u001B[38;5;241m.\u001B[39mvalues[\u001B[38;5;241m0\u001B[39m], \u001B[38;5;124m\"\u001B[39m\u001B[38;5;124mzone\u001B[39m\u001B[38;5;124m\"\u001B[39m: stops[stops[\u001B[38;5;124m'\u001B[39m\u001B[38;5;124mstop_id\u001B[39m\u001B[38;5;124m'\u001B[39m] \u001B[38;5;241m==\u001B[39m stop_id][\u001B[38;5;124m'\u001B[39m\u001B[38;5;124mzone_id\u001B[39m\u001B[38;5;124m'\u001B[39m]\u001B[38;5;241m.\u001B[39mvalues[\u001B[38;5;241m0\u001B[39m]\n\u001B[0;32m     15\u001B[0m                    } \u001B[38;5;28;01mfor\u001B[39;00m stop_id \u001B[38;5;129;01min\u001B[39;00m lines[line]]\n\u001B[0;32m     16\u001B[0m         \n\u001B[0;32m     17\u001B[0m \n\u001B[0;32m     18\u001B[0m     })\n\u001B[0;32m     20\u001B[0m metro_lines\n\u001B[0;32m     23\u001B[0m \u001B[38;5;66;03m# store json\u001B[39;00m\n\u001B[0;32m     24\u001B[0m \u001B[38;5;66;03m# fix encoding so accents are displayed correctly\u001B[39;00m\n\u001B[0;32m     25\u001B[0m \u001B[38;5;66;03m# import json\u001B[39;00m\n\u001B[0;32m     26\u001B[0m \u001B[38;5;66;03m# with open('metro_lines.json', 'w', encoding='utf-8') as f:\u001B[39;00m\n\u001B[0;32m     27\u001B[0m \u001B[38;5;66;03m#     json.dump(metro_lines, f, ensure_ascii=False, indent=2)\u001B[39;00m\n",
      "\u001B[1;31mIndexError\u001B[0m: index 0 is out of bounds for axis 0 with size 0"
     ]
    }
   ],
   "source": [
    "lines = {trip_id: stop_times2.loc[trip_id]['stop_id'] for trip_id in stop_times2.index}\n",
    "metro_lines = {\"lines\": []}\n",
    "print(lines)\n",
    "# open stops.txt as csv\n",
    "stops = pd.read_csv('./stops.txt', sep=',')\n",
    "routes = pd.read_csv('./routes.txt', sep=',')\n",
    "\n",
    "routes\n",
    "\n",
    "for line in lines:\n",
    "    metro_lines[\"lines\"].append({\n",
    "        \"line_name\": line,\n",
    "        \"color\": routes[routes['route_id'] == line]['route_color'].values[0],\n",
    "        \"stops\": [{\"name\": stops[stops['stop_id'] == stop_id]['stop_name'].values[0], \"lat\": stops[stops['stop_id'] == stop_id]['stop_lat'].values[0], \"lon\": stops[stops['stop_id'] == stop_id]['stop_lon'].values[0], \"zone\": stops[stops['stop_id'] == stop_id]['zone_id'].values[0]\n",
    "                   } for stop_id in lines[line]]\n",
    "        \n",
    "\n",
    "    })\n",
    "\n",
    "metro_lines\n",
    "\n",
    "\n",
    "# store json\n",
    "# fix encoding so accents are displayed correctly\n",
    "# import json\n",
    "# with open('metro_lines.json', 'w', encoding='utf-8') as f:\n",
    "#     json.dump(metro_lines, f, ensure_ascii=False, indent=2)\n",
    "    "
   ],
   "metadata": {
    "collapsed": false,
    "ExecuteTime": {
     "end_time": "2024-11-16T03:55:16.014048Z",
     "start_time": "2024-11-16T03:55:15.982924Z"
    }
   },
   "id": "e91ed78e9538344d",
   "execution_count": 11
  },
  {
   "cell_type": "code",
   "outputs": [],
   "source": [],
   "metadata": {
    "collapsed": false
   },
   "id": "4d4efb9523335bf1"
  }
 ],
 "metadata": {
  "kernelspec": {
   "display_name": "Python 3",
   "language": "python",
   "name": "python3"
  },
  "language_info": {
   "codemirror_mode": {
    "name": "ipython",
    "version": 2
   },
   "file_extension": ".py",
   "mimetype": "text/x-python",
   "name": "python",
   "nbconvert_exporter": "python",
   "pygments_lexer": "ipython2",
   "version": "2.7.6"
  }
 },
 "nbformat": 4,
 "nbformat_minor": 5
}
